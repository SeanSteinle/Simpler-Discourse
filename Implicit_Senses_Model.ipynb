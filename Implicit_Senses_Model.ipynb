{
  "nbformat": 4,
  "nbformat_minor": 0,
  "metadata": {
    "colab": {
      "name": "Implicit_Senses_Model.ipynb",
      "provenance": [],
      "collapsed_sections": [],
      "toc_visible": true
    },
    "kernelspec": {
      "name": "python3",
      "display_name": "Python 3"
    },
    "language_info": {
      "name": "python"
    }
  },
  "cells": [
    {
      "cell_type": "markdown",
      "metadata": {
        "id": "Z-XPPs24lwAm"
      },
      "source": [
        "# Simple Discourse: A Python Library for Clearer Discourse Modeling\n",
        "*A CS1699 Final Project By Sean Steinle, Brandon Kowalecki, and Nolan Weinlader*\n",
        "<br>\n",
        "\n",
        "### Table of Contents\n",
        "1. [The Simple Discourse Library](#a)\n",
        "  1. [Source Code](#a1)\n",
        "  2. [Examining the Discourse Unit and Surveying PDTB3](#a2)\n",
        "\n",
        "<a name='a'></a>"
      ]
    },
    {
      "cell_type": "markdown",
      "metadata": {
        "id": "X_vtgF_-ma_I"
      },
      "source": [
        "## The Simple Discourse Library\n",
        "\n",
        "In this notebook, we'll demo the Python library we wrote to simplify working with the Penn Discourse TreeBank version 3 (PDTB3).\n",
        "\n",
        "<a name='a1'>\n",
        "\n",
        "### Source Code\n",
        "\n",
        "During the semester, we focused our time on understanding the task of discourse analysis as well as engineering the library itself, so the library is not up on PyPI yet. Because of this, I'll copy our functions into the following blocks."
      ]
    },
    {
      "cell_type": "code",
      "metadata": {
        "id": "k53TSRtIndqZ"
      },
      "source": [
        "import os"
      ],
      "execution_count": null,
      "outputs": []
    },
    {
      "cell_type": "code",
      "metadata": {
        "id": "eQ8HM8m1nXOX"
      },
      "source": [
        "class DiscourseLoader:\n",
        "    def __init__(self, path):\n",
        "        self.raw_relations = self.loadCorpus(path) #each raw_relation is a two-part tuple, [0] is raw annotation, [1] is raw text\n",
        "\n",
        "    #This method takes the path to the pdtb3 corpus and returns a tuple of the raw text of the discourse fields and the filename\n",
        "    def loadCorpus(self, path):\n",
        "        #This section loads the raw annotations\n",
        "        relations = []\n",
        "        ann_path = path+'gold/'\n",
        "        for folder in os.listdir(ann_path):\n",
        "            if(folder == '.DS_Store'):\n",
        "                continue\n",
        "            for fn in os.listdir(ann_path+folder):\n",
        "                f = open(ann_path+'/'+folder+'/'+fn, 'r')\n",
        "                for line in f.readlines():\n",
        "                    relations.append([line,path+'raw/'+folder+'/'+fn])\n",
        "\n",
        "        return relations\n"
      ],
      "execution_count": null,
      "outputs": []
    },
    {
      "cell_type": "code",
      "metadata": {
        "id": "oaeOYOUCjaKN"
      },
      "source": [
        "class DiscourseUnit:\n",
        "    def __init__(self, raw_relation):\n",
        "        fields = raw_relation[0].split('|')\n",
        "\n",
        "        #data members\n",
        "        self.type_definitions_path = 'rel_type_definitions.txt'\n",
        "        self.text_path = raw_relation[1]\n",
        "        self.Relation = Relation(fields[0], fields[7], fields[8]) #connective=7, class=8\n",
        "        self.Arg1 = Arg(fields[14], self.text_path)\n",
        "        self.Arg2 = Arg(fields[20], self.text_path)\n",
        "\n",
        "    def highlightDiscourse(self, text_file, output_file, color1='orange', color2='red', color_con='green', context_len=250): #output needs to be html\n",
        "        htmlFile = '''\n",
        "           <!DOCTYPE html>\n",
        "        <html>\n",
        "        \t<head></head>\n",
        "        \t<body>\n",
        "                <p>{0}</p>\n",
        "        \t</body>\n",
        "        </html>\n",
        "        '''\n",
        "        #<p style=\"color:blue;\">{1}</p>\n",
        "\n",
        "        #gets text from raw text file\n",
        "        text_f = open(self.text_path, 'r')\n",
        "        lines = text_f.read()\n",
        "        text_f.close()\n",
        "\n",
        "        #replaces args + conn w/ html color args + conn\n",
        "        lines = lines.replace('.START', '')\n",
        "        repl_1 = '<font style=\"color:{0};\">{1}</font>'.format(color1, self.Arg1.text)\n",
        "        repl_2 = '<font style=\"color:{0};\">{1}</font>'.format(color2, self.Arg2.text)\n",
        "        repl_con = '<font style=\"color:{0};\">{1}</font>'.format(color_con, self.Relation.connective)\n",
        "        lines = lines.replace(self.Arg1.text, repl_1)\n",
        "        lines = lines.replace(self.Arg2.text, repl_2)\n",
        "        lines = lines.replace(self.Relation.connective, repl_con)\n",
        "\n",
        "        #finds boundaries of text\n",
        "        start = lines.find(repl_1)\n",
        "        end = lines.find(repl_2) + len(repl_2) + len(repl_con)\n",
        "\n",
        "        #check that boundaries are within total text window\n",
        "        if(start-context_len<=0):\n",
        "            start = 0\n",
        "        else:\n",
        "            start = start-context_len\n",
        "        if(end+context_len>=len(lines)):\n",
        "            end = 0\n",
        "        else:\n",
        "            end = end+context_len\n",
        "        context = lines[start:end]\n",
        "\n",
        "        #opens html, writes raw text\n",
        "        html_f = open(output_file, 'w')\n",
        "        html_f.write(self.Relation.type + \": \" + self.Relation.semantic_class)\n",
        "        html_f.write(self.Relation.type_definition)\n",
        "        html_f.write(htmlFile.format(context))\n",
        "        html_f.close()\n",
        "\n",
        "class Arg():\n",
        "    def __init__(self, raw_substring, text_path):\n",
        "        self.text = self.getText(raw_substring, text_path)\n",
        "\n",
        "    #gets the text of the argument. can be in one or multiple chunks.\n",
        "    def getText(self, raw_substring, text_path):\n",
        "        if(raw_substring[-1]==';'):\n",
        "            raw_substring = raw_substring[:-1]\n",
        "        if(';' not in raw_substring):\n",
        "            nums = raw_substring.split(\"..\")\n",
        "            f = open(text_path, 'r')\n",
        "            text = f.read()\n",
        "            f.close()\n",
        "            return text[int(nums[0]):int(nums[1])]\n",
        "        else: #this case is for multi-part args...\n",
        "            pairs = raw_substring.split(\";\")\n",
        "            f = open(text_path, 'r')\n",
        "            text = f.read()\n",
        "            texts = \"\"\n",
        "            for pair in pairs:\n",
        "                nums = pair.split(\"..\")\n",
        "                texts+=text[int(nums[0]):int(nums[1])]+\" \"\n",
        "            return texts\n",
        "\n",
        "class Relation():\n",
        "    def __init__(self, rel_type, connective, semantic_class):\n",
        "        self.type = rel_type\n",
        "        self.types_dict = self.defineTypes()\n",
        "        self.type_definition = self.types_dict[rel_type]\n",
        "        self.semantic_class = semantic_class\n",
        "        self.connective = connective\n",
        "\n",
        "    def defineTypes(self):\n",
        "        defs = '''Explicit - Has an explicit discourse connective. Examples include since, because and therefore.\n",
        "Implicit - Must be inferred, lack the cues of explicit connectives.\n",
        "AltLex - Lack an explicit connective, but contain other phrasal or construction-based evidence for the relation that holds between the arguments. Cases where a discourse relation is inferred between adjacent sentences but where providing an implicit connective leads to redundancy in the expression of the relation.\n",
        "AltLexC - Lack an explicit connective, but contain other phrasal or construction-based evidence for the relation that holds between the arguments. They are a type of AltLex construction, they can be found on their own, separate from other AltLex tokens but have the same fields as AltLex. Examples include so, such and too.\n",
        "Hypophora - Involves a question posed in Arg1 and answer in Arg2. Explicitly marked question-response pairs.\n",
        "EntRel - A relation holds between an entity mentioned in Arg1 and the contents of Arg2.\n",
        "NoRel - Annotated only between adjacent sentences within a paragraph that are not linked to each other by a discourse relation.'''\n",
        "        defs = defs.split('\\n')\n",
        "        dict = {}\n",
        "        for d in defs:\n",
        "            type, definition = d.split(' - ')\n",
        "            dict[type] = definition\n",
        "        return dict\n"
      ],
      "execution_count": null,
      "outputs": []
    },
    {
      "cell_type": "markdown",
      "metadata": {
        "id": "2HMbhCcNnh7g"
      },
      "source": [
        "<a name='a2'>\n",
        "\n",
        "### Examining the Discourse Unit and Surveying Discourse Relations\n",
        "\n",
        "In this section, let's load a few discourse units and do some basic EDA on the PDTB3."
      ]
    },
    {
      "cell_type": "code",
      "metadata": {
        "id": "L4IDbEJ5ngXK"
      },
      "source": [
        "#First, we need to load the PDTB into Colab from Drive\n",
        "!cp ./drive/MyDrive/Colab/pdtbMerge-v9-3.zip .\n",
        "!unzip  pdtbMerge-v9-3.zip\n",
        "!ls"
      ],
      "execution_count": null,
      "outputs": []
    },
    {
      "cell_type": "code",
      "metadata": {
        "id": "Jo3gteL7n9qw"
      },
      "source": [
        "#Instantiate the DiscourseLoader object\n",
        "loader = DiscourseLoader('pdtbMerge-v9-3/')"
      ],
      "execution_count": null,
      "outputs": []
    },
    {
      "cell_type": "code",
      "metadata": {
        "id": "YMrPf5RmpB9g"
      },
      "source": [
        "#Let's make a list of five discourse units\n",
        "discourse_units = []\n",
        "for i in range(5):\n",
        "  discourse_units.append(DiscourseUnit(loader.raw_relations[i]))"
      ],
      "execution_count": null,
      "outputs": []
    },
    {
      "cell_type": "code",
      "metadata": {
        "colab": {
          "base_uri": "https://localhost:8080/"
        },
        "id": "XyR69TXHpaVO",
        "outputId": "51ba1595-0153-40d0-8e03-f76f1dcaaf2c"
      },
      "source": [
        "#Some basic details about this discourse unit\n",
        "print(\"Type:\", discourse_units[0].Relation.type)\n",
        "print(\"Type Definition:\", discourse_units[0].Relation.type_definition)\n",
        "print(\"Argument #1:\", discourse_units[0].Arg1.text)\n",
        "print(\"Argument #2:\", discourse_units[0].Arg2.text)"
      ],
      "execution_count": null,
      "outputs": [
        {
          "output_type": "stream",
          "text": [
            "Type: Explicit\n",
            "Type Definition: Has an explicit discourse connective. Examples include since, because and therefore.\n",
            "Argument #1: however, why limit the practice to the poor, maligned analysts whose ability to see into the future is fragile at best\n",
            "Argument #2: the firms are serious\n"
          ],
          "name": "stdout"
        }
      ]
    },
    {
      "cell_type": "code",
      "metadata": {
        "id": "es_KvtQ8pfut"
      },
      "source": [
        "#We also included a basic visualization method\n",
        "discourse_units[0].highlightDiscourse(discourse_units[0].text_path, 'discourse_visualization.html')"
      ],
      "execution_count": null,
      "outputs": []
    },
    {
      "cell_type": "code",
      "metadata": {
        "id": "TkBk5x61qh0X"
      },
      "source": [
        "#This code loads all of the PDTB instances as DiscourseUnits\n",
        "units = []\n",
        "for i in range(len(loader.raw_relations)):\n",
        "  print(i)\n",
        "  try:\n",
        "    units.append(DiscourseUnit(loader.raw_relations[i]))\n",
        "  except:\n",
        "    print(\"Colab Error\")\n",
        "units[:5]"
      ],
      "execution_count": null,
      "outputs": []
    },
    {
      "cell_type": "code",
      "metadata": {
        "id": "a7vFA1hLsCUI",
        "colab": {
          "base_uri": "https://localhost:8080/",
          "height": 486
        },
        "outputId": "6aef4557-e79d-4b1a-84c4-4ca7665ffcad"
      },
      "source": [
        "#Look at all those relations! Now let's make a Pandas dataframe and analyze these relations.\n",
        "import pandas as pd\n",
        "df = pd.DataFrame()\n",
        "df['relation'] = [d.Relation.type for d in units]\n",
        "df['semantic_class'] = [d.Relation.semantic_class for d in units]\n",
        "df['connective'] = [d.Relation.connective for d in units]\n",
        "df['arg1'] = [d.Arg1.text for d in units]\n",
        "df['arg2'] = [d.Arg2.text for d in units]\n",
        "df"
      ],
      "execution_count": null,
      "outputs": [
        {
          "output_type": "execute_result",
          "data": {
            "text/html": [
              "<div>\n",
              "<style scoped>\n",
              "    .dataframe tbody tr th:only-of-type {\n",
              "        vertical-align: middle;\n",
              "    }\n",
              "\n",
              "    .dataframe tbody tr th {\n",
              "        vertical-align: top;\n",
              "    }\n",
              "\n",
              "    .dataframe thead th {\n",
              "        text-align: right;\n",
              "    }\n",
              "</style>\n",
              "<table border=\"1\" class=\"dataframe\">\n",
              "  <thead>\n",
              "    <tr style=\"text-align: right;\">\n",
              "      <th></th>\n",
              "      <th>relation</th>\n",
              "      <th>semantic_class</th>\n",
              "      <th>connective</th>\n",
              "      <th>arg1</th>\n",
              "      <th>arg2</th>\n",
              "    </tr>\n",
              "  </thead>\n",
              "  <tbody>\n",
              "    <tr>\n",
              "      <th>0</th>\n",
              "      <td>Explicit</td>\n",
              "      <td>Contingency.Condition.Arg2-as-cond</td>\n",
              "      <td>if</td>\n",
              "      <td>however, why limit the practice to the poor, m...</td>\n",
              "      <td>the firms are serious</td>\n",
              "    </tr>\n",
              "    <tr>\n",
              "      <th>1</th>\n",
              "      <td>Explicit</td>\n",
              "      <td>Comparison.Concession.Arg2-as-denier</td>\n",
              "      <td>however</td>\n",
              "      <td>I'm delighted that Wall Street is finally tuni...</td>\n",
              "      <td>why limit the practice to the poor, maligned a...</td>\n",
              "    </tr>\n",
              "    <tr>\n",
              "      <th>2</th>\n",
              "      <td>Implicit</td>\n",
              "      <td>Expansion.Substitution.Arg2-as-subst</td>\n",
              "      <td>instead</td>\n",
              "      <td>If the firms are serious, however, why limit t...</td>\n",
              "      <td>Why not extend the same harsh standards to the...</td>\n",
              "    </tr>\n",
              "    <tr>\n",
              "      <th>3</th>\n",
              "      <td>Explicit</td>\n",
              "      <td>Expansion.Manner.Arg2-as-manner</td>\n",
              "      <td>and</td>\n",
              "      <td>extend the same harsh standards to the sales f...</td>\n",
              "      <td>pay brokers a base salary with annual bonus ba...</td>\n",
              "    </tr>\n",
              "    <tr>\n",
              "      <th>4</th>\n",
              "      <td>Explicit</td>\n",
              "      <td>Expansion.Conjunction</td>\n",
              "      <td>with</td>\n",
              "      <td>and pay brokers a base salary</td>\n",
              "      <td>annual bonus based on how much money they made...</td>\n",
              "    </tr>\n",
              "    <tr>\n",
              "      <th>...</th>\n",
              "      <td>...</td>\n",
              "      <td>...</td>\n",
              "      <td>...</td>\n",
              "      <td>...</td>\n",
              "      <td>...</td>\n",
              "    </tr>\n",
              "    <tr>\n",
              "      <th>53286</th>\n",
              "      <td>Explicit</td>\n",
              "      <td>Contingency.Cause.Reason</td>\n",
              "      <td>because</td>\n",
              "      <td>The company has expressed a preference for GM ...</td>\n",
              "      <td>GM has promised it would keep Jaguar independent</td>\n",
              "    </tr>\n",
              "    <tr>\n",
              "      <th>53287</th>\n",
              "      <td>Explicit</td>\n",
              "      <td>Temporal.Asynchronous.Precedence</td>\n",
              "      <td>then</td>\n",
              "      <td>when it abandoned a four-year effort to market...</td>\n",
              "      <td>last Friday, Ford's talks about a possible all...</td>\n",
              "    </tr>\n",
              "    <tr>\n",
              "      <th>53288</th>\n",
              "      <td>Implicit</td>\n",
              "      <td>Contingency.Cause.Reason</td>\n",
              "      <td>since</td>\n",
              "      <td>GM's interest in Jaguar reflects a desire to h...</td>\n",
              "      <td>Its Opel line has a solid image and a recent s...</td>\n",
              "    </tr>\n",
              "    <tr>\n",
              "      <th>53289</th>\n",
              "      <td>Explicit</td>\n",
              "      <td>Comparison.Contrast</td>\n",
              "      <td>but</td>\n",
              "      <td>Its Opel line has a solid image and a recent s...</td>\n",
              "      <td>it lacks Jaguar's cachet</td>\n",
              "    </tr>\n",
              "    <tr>\n",
              "      <th>53290</th>\n",
              "      <td>Explicit</td>\n",
              "      <td>Expansion.Conjunction</td>\n",
              "      <td>also</td>\n",
              "      <td>GM's interest in Jaguar reflects a desire to h...</td>\n",
              "      <td>GM officials see a lot of potential in marryin...</td>\n",
              "    </tr>\n",
              "  </tbody>\n",
              "</table>\n",
              "<p>53291 rows × 5 columns</p>\n",
              "</div>"
            ],
            "text/plain": [
              "       relation  ...                                               arg2\n",
              "0      Explicit  ...                              the firms are serious\n",
              "1      Explicit  ...  why limit the practice to the poor, maligned a...\n",
              "2      Implicit  ...  Why not extend the same harsh standards to the...\n",
              "3      Explicit  ...  pay brokers a base salary with annual bonus ba...\n",
              "4      Explicit  ...  annual bonus based on how much money they made...\n",
              "...         ...  ...                                                ...\n",
              "53286  Explicit  ...   GM has promised it would keep Jaguar independent\n",
              "53287  Explicit  ...  last Friday, Ford's talks about a possible all...\n",
              "53288  Implicit  ...  Its Opel line has a solid image and a recent s...\n",
              "53289  Explicit  ...                           it lacks Jaguar's cachet\n",
              "53290  Explicit  ...  GM officials see a lot of potential in marryin...\n",
              "\n",
              "[53291 rows x 5 columns]"
            ]
          },
          "metadata": {
            "tags": []
          },
          "execution_count": 10
        }
      ]
    },
    {
      "cell_type": "code",
      "metadata": {
        "colab": {
          "base_uri": "https://localhost:8080/",
          "height": 298
        },
        "id": "DscXzqCry4Zr",
        "outputId": "895e3bc4-0edf-47ea-ba85-ac5ac7cbcc34"
      },
      "source": [
        "import matplotlib.pyplot as plt\n",
        "\n",
        "plt.hist(df['relation'])\n",
        "plt.title(\"Distribution of Relations By Type\")\n",
        "plt.show"
      ],
      "execution_count": null,
      "outputs": [
        {
          "output_type": "execute_result",
          "data": {
            "text/plain": [
              "<function matplotlib.pyplot.show>"
            ]
          },
          "metadata": {
            "tags": []
          },
          "execution_count": 14
        },
        {
          "output_type": "display_data",
          "data": {
            "image/png": "[encoded data removed]",
            "text/plain": [
              "<Figure size 432x288 with 1 Axes>"
            ]
          },
          "metadata": {
            "tags": [],
            "needs_background": "light"
          }
        }
      ]
    },
    {
      "cell_type": "code",
      "metadata": {
        "colab": {
          "base_uri": "https://localhost:8080/"
        },
        "id": "wo364NHr0pt8",
        "outputId": "c0dfb6f0-7162-4ac6-8e80-df4669633331"
      },
      "source": [
        "import nltk\n",
        "nltk.download('punkt')\n",
        "df['arg1_count'] = df.arg1.apply(lambda x: len(nltk.word_tokenize(x)))\n",
        "df['arg2_count'] = df.arg2.apply(lambda x: len(nltk.word_tokenize(x)))\n",
        "arg1_count = df['arg1_count']\n",
        "arg2_count = df['arg2_count']\n",
        "df['arg_counts'] = arg1_count + arg2_count"
      ],
      "execution_count": null,
      "outputs": [
        {
          "output_type": "stream",
          "text": [
            "[nltk_data] Downloading package punkt to /root/nltk_data...\n",
            "[nltk_data]   Unzipping tokenizers/punkt.zip.\n"
          ],
          "name": "stdout"
        }
      ]
    },
    {
      "cell_type": "code",
      "metadata": {
        "colab": {
          "base_uri": "https://localhost:8080/"
        },
        "id": "ci4xk4eZ3-CI",
        "outputId": "b31e0e12-ec47-4630-f6de-1d227a22a9e4"
      },
      "source": [
        "print(\"Average argument length (in words) for explicit relations: \", df[(df['relation']=='Explicit')]['arg_counts'].mean())\n",
        "print(\"Average argument length (in words) for implicit relations: \", df[(df['relation']=='Implicit')]['arg_counts'].mean())"
      ],
      "execution_count": null,
      "outputs": [
        {
          "output_type": "stream",
          "text": [
            "Average argument length (in words) for explicit relations:  26.49396190397145\n",
            "Average argument length (in words) for implicit relations:  33.02370609981516\n"
          ],
          "name": "stdout"
        }
      ]
    },
    {
      "cell_type": "code",
      "metadata": {
        "colab": {
          "base_uri": "https://localhost:8080/"
        },
        "id": "0EHr_H6B029n",
        "outputId": "d8524125-f039-4e9d-d86a-5fc15aeb6a2f"
      },
      "source": [
        "connectives = df['connective'].value_counts(sort=True, normalize=True)\n",
        "connectives = connectives[:10]\n",
        "connectives"
      ],
      "execution_count": null,
      "outputs": [
        {
          "output_type": "execute_result",
          "data": {
            "text/plain": [
              "and             0.154641\n",
              "                0.141731\n",
              "but             0.083935\n",
              "because         0.055563\n",
              "also            0.040889\n",
              "specifically    0.029517\n",
              "while           0.028241\n",
              "in order        0.024732\n",
              "so              0.024319\n",
              "then            0.023625\n",
              "Name: connective, dtype: float64"
            ]
          },
          "metadata": {
            "tags": []
          },
          "execution_count": 97
        }
      ]
    },
    {
      "cell_type": "markdown",
      "metadata": {
        "id": "b0fUezFL0lFh"
      },
      "source": [
        "Looks like most relations are either implicit or explicit. Of those relations, we can tell that implicit relations have arguments that are in total 6-7 words longer on average. Additionally, we see that 'and' and no connective make up almost 30% of relations."
      ]
    },
    {
      "cell_type": "code",
      "metadata": {
        "colab": {
          "base_uri": "https://localhost:8080/"
        },
        "id": "z4oWgPQ85OXV",
        "outputId": "9872857a-3cb2-4307-882f-583419263d9a"
      },
      "source": [
        "print(len(set(df['semantic_class'])))\n",
        "print(df['semantic_class'].value_counts(sort=True, normalize=True))\n",
        "print(df['semantic_class'].value_counts(sort=True, normalize=True)[-20:].sum())"
      ],
      "execution_count": null,
      "outputs": [
        {
          "output_type": "stream",
          "text": [
            "36\n",
            "Expansion.Conjunction                                       0.248072\n",
            "                                                            0.111201\n",
            "Comparison.Concession.Arg2-as-denier                        0.102456\n",
            "Contingency.Cause.Reason                                    0.086638\n",
            "Contingency.Cause.Result                                    0.075172\n",
            "Expansion.Level-of-detail.Arg2-as-detail                    0.060385\n",
            "Temporal.Synchronous                                        0.046837\n",
            "Temporal.Asynchronous.Precedence                            0.039838\n",
            "Comparison.Contrast                                         0.037417\n",
            "Expansion.Instantiation.Arg2-as-instance                    0.034490\n",
            "Contingency.Condition.Arg2-as-cond                          0.030699\n",
            "Contingency.Purpose.Arg2-as-goal                            0.030136\n",
            "Temporal.Asynchronous.Succession                            0.025483\n",
            "Comparison.Concession.Arg1-as-denier                        0.014881\n",
            "Expansion.Substitution.Arg2-as-subst                        0.009364\n",
            "Expansion.Manner.Arg2-as-manner                             0.008125\n",
            "Expansion.Equivalence                                       0.006943\n",
            "Expansion.Disjunction                                       0.006211\n",
            "Expansion.Level-of-detail.Arg1-as-detail                    0.005629\n",
            "Comparison.Similarity                                       0.003678\n",
            "Contingency.Cause+Belief.Reason+Belief                      0.003115\n",
            "Contingency.Purpose.Arg1-as-goal                            0.002252\n",
            "Contingency.Negative-condition.Arg2-as-negCond              0.002064\n",
            "Expansion.Substitution.Arg1-as-subst                        0.002027\n",
            "Expansion.Manner.Arg1-as-manner                             0.001389\n",
            "Contingency.Condition+SpeechAct                             0.001370\n",
            "Contingency.Cause+Belief.Result+Belief                      0.001351\n",
            "Contingency.Condition.Arg1-as-cond                          0.000563\n",
            "Comparison.Concession+SpeechAct.Arg2-as-denier+SpeechAct    0.000507\n",
            "Expansion.Exception.Arg2-as-excpt                           0.000488\n",
            "Expansion.Exception.Arg1-as-excpt                           0.000338\n",
            "Contingency.Negative-condition.Arg1-as-negCond              0.000300\n",
            "Contingency.Cause+SpeechAct.Reason+SpeechAct                0.000244\n",
            "Contingency.Cause+SpeechAct.Result+SpeechAct                0.000188\n",
            "Expansion.Instantiation.Arg1-as-instance                    0.000075\n",
            "Contingency.Negative-cause.NegResult                        0.000075\n",
            "Name: semantic_class, dtype: float64\n",
            "0.038805802105421186\n"
          ],
          "name": "stdout"
        }
      ]
    },
    {
      "cell_type": "markdown",
      "metadata": {
        "id": "MKSPeW3u5gKe"
      },
      "source": [
        "Finally, we turn to the semantic classes. This is the label that we will be predicting with our implicit sense classifier, so it is good to know the distribution of the label type in our dataset. What we find is that this category is highly imbalanced in its classes, with the most occuring class being more than double the size of the second most occuring class, and three times the size of the third most occurring class. We also find that our of 36 categories, the 20 least occuring classes make up less than 4% of all discourse units. **This is a very skewed category**."
      ]
    },
    {
      "cell_type": "markdown",
      "metadata": {
        "id": "8e4NTVmj7SYs"
      },
      "source": [
        "<a name='b'></a>\n",
        "\n",
        "## Bonus: Visualizing Discourse Model Predictions\n",
        "\n",
        "In this section, we'll move on from simply exploring discourse data and attempt to model it!\n",
        "\n",
        "<a name='b1'></a>\n",
        "\n",
        "### Running a Discourse Model\n",
        "\n",
        "The discourse model we'll be running is Chen, Chu, and Gimpel's DiscoEval implicit sense classifier (which you can find here: https://github.com/ZeweiChu/DiscoEval). Basically, this model takes two arguments are input, and attempts to predicted the semantic discourse class. In this section, we're going to run this model on the default PDTB2 dataset.\n",
        "\n",
        "*Note on Execution*: Because we'd like to run this model with GPU's, this notebook is being run on Google Colab. Since we're running a fairly complex codebase on Colab, I'll zip the files and upload them into this runtime. This method has its drawbacks, in that you may not be able to see every change I make to the model, but we'll deal with that by flashing important code bits and describing important changes in the next section when we run the model on PDTB3."
      ]
    },
    {
      "cell_type": "code",
      "metadata": {
        "id": "VHD4KhIz7R4a"
      },
      "source": [
        "#First, we need to load the DiscoEval model into Colab from Drive\n",
        "!cp ./drive/MyDrive/Colab/DiscoEval-master.zip .\n",
        "!unzip  DiscoEval-master.zip\n",
        "!ls"
      ],
      "execution_count": null,
      "outputs": []
    },
    {
      "cell_type": "code",
      "metadata": {
        "id": "7PrN_h-EOYcm"
      },
      "source": [
        "!cp ./drive/MyDrive/Colab/SentEval-master.zip .\n",
        "!unzip  SentEval-master.zip\n",
        "!ls"
      ],
      "execution_count": null,
      "outputs": []
    },
    {
      "cell_type": "code",
      "metadata": {
        "id": "oQQcR3m-AE87"
      },
      "source": [
        "#Install dependencies\n",
        "!pip install transformers tensorboardX"
      ],
      "execution_count": null,
      "outputs": []
    },
    {
      "cell_type": "code",
      "metadata": {
        "colab": {
          "base_uri": "https://localhost:8080/"
        },
        "id": "hsYTeVi8_J9V",
        "outputId": "9136ddec-9094-4855-9dbd-a3a236073320"
      },
      "source": [
        "#This command will run the model on PDTB2\n",
        "#Note: you need to enable GPU for this\n",
        "#print(\"config\")\n",
        "#!cd DiscoEval-master/train/ && python config.py --train_path DiscoEval-master/train/ --test_path DiscoEval-master/discoeval/#gonna need flags here\n",
        "#print(\"run\")\n",
        "#!cd DiscoEval-master/train/ && python run.py\n",
        "print(\"shell\")\n",
        "!cd DiscoEval-master/examples/ && sh run_bert.sh 4 avg base"
      ],
      "execution_count": null,
      "outputs": [
        {
          "output_type": "stream",
          "text": [
            "shell\n",
            "6a86286559a6\n",
            "task: 4\n",
            "layer: avg\n",
            "model type: base\n",
            "Traceback (most recent call last):\n",
            "  File \"bert.py\", line 24, in <module>\n",
            "    import discoeval \n",
            "ModuleNotFoundError: No module named 'discoeval'\n"
          ],
          "name": "stdout"
        }
      ]
    }
  ]
}